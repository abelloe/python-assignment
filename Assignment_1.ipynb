{
 "cells": [
  {
   "cell_type": "markdown",
   "id": "71536e31",
   "metadata": {},
   "source": [
    "# Question 1"
   ]
  },
  {
   "cell_type": "code",
   "execution_count": 7,
   "id": "2bda9e43",
   "metadata": {},
   "outputs": [
    {
     "data": {
      "text/plain": [
       "['kofi', 'ama', 1.5, 2.2, 3.4, 4.9, 5.0, 20, 30, 40, 50]"
      ]
     },
     "execution_count": 7,
     "metadata": {},
     "output_type": "execute_result"
    }
   ],
   "source": [
    "list_1 = ['kofi', 'ama', 1.5, 2.2, 3.4, 4.9, 5.0, 20, 30, 40, 50 ]   # list of 2 strings,5 floats and 4 integers\n",
    "list_1"
   ]
  },
  {
   "cell_type": "code",
   "execution_count": 8,
   "id": "cf630d30",
   "metadata": {},
   "outputs": [
    {
     "data": {
      "text/plain": [
       "[['kofi', 'ama', 1.5, 2.2, 3.4, 4.9, 5.0, 20, 30, 40, 50]]"
      ]
     },
     "execution_count": 8,
     "metadata": {},
     "output_type": "execute_result"
    }
   ],
   "source": [
    "Dtypes = []                                                         # append list_1 into new list called Dtypes\n",
    "Dtypes.append(list_1)\n",
    "Dtypes"
   ]
  },
  {
   "cell_type": "markdown",
   "id": "0737f4f8",
   "metadata": {},
   "source": [
    "# Question 2"
   ]
  },
  {
   "cell_type": "code",
   "execution_count": 13,
   "id": "1c842213",
   "metadata": {},
   "outputs": [
    {
     "data": {
      "text/plain": [
       "[5, 7, 9, 11, 13, 15, 17, 19]"
      ]
     },
     "execution_count": 13,
     "metadata": {},
     "output_type": "execute_result"
    }
   ],
   "source": [
    "list_2 = [x for x in range(5, 20, 2)]\n",
    "list_2"
   ]
  },
  {
   "cell_type": "markdown",
   "id": "c938aa1e",
   "metadata": {},
   "source": [
    "# Question 3"
   ]
  },
  {
   "cell_type": "code",
   "execution_count": 65,
   "id": "efa42ac0",
   "metadata": {},
   "outputs": [
    {
     "name": "stdout",
     "output_type": "stream",
     "text": [
      "It is not even\n",
      "It is not even\n",
      "9 it is even\n",
      "It is not even\n",
      "It is not even\n",
      "15 it is even\n",
      "It is not even\n",
      "It is not even\n"
     ]
    }
   ],
   "source": [
    "# if the number in list_2 is divisible by 3,print 'it is even'\n",
    "for x in list_2:\n",
    "    \n",
    "    if x%3 == 0:\n",
    "        print(str(x) + \" it is even\")\n",
    "    else:\n",
    "        print(\"It is not even\")"
   ]
  },
  {
   "cell_type": "markdown",
   "id": "9da05b85",
   "metadata": {},
   "source": [
    "# Question 4"
   ]
  },
  {
   "cell_type": "code",
   "execution_count": 64,
   "id": "16cc9709",
   "metadata": {},
   "outputs": [
    {
     "name": "stdout",
     "output_type": "stream",
     "text": [
      "Ada is 30km from Accra\n"
     ]
    }
   ],
   "source": [
    "# create a variable and print it together with a set of strings\n",
    "ada = \"Ada\"\n",
    "dis_from_accra = 30\n",
    "print(ada + \" is \" + str(dis_from_accra) + \"km\" + \" from Accra\")"
   ]
  },
  {
   "cell_type": "markdown",
   "id": "3b78fe97",
   "metadata": {},
   "source": [
    "# Question 5"
   ]
  },
  {
   "cell_type": "code",
   "execution_count": 63,
   "id": "230defb1",
   "metadata": {
    "scrolled": false
   },
   "outputs": [
    {
     "name": "stdout",
     "output_type": "stream",
     "text": [
      "[False, True]\n",
      "['Books', 'Phone', 'Gh_cedi', 'Laptop', 'Shelter', 'Food', 'Job', '54m']\n",
      "[10.5, 7.5, 9.0]\n",
      "[24, 15, 20, 23, 40, 32, 48]\n"
     ]
    }
   ],
   "source": [
    "# create list for each data type\n",
    "Essentials = [False, 24, \"Books\",  \"Phone\", 10.5, \"Gh_cedi\", \"Laptop\", True, \"Shelter\", \"Food\", 15, \"Job\", '54m', 20, 7.5, 23, 40, 9.0, 32, 48]\n",
    "\n",
    "bool_dtype = []\n",
    "str_dtype = []\n",
    "flt_dtype = []\n",
    "int_dtype = []\n",
    "\n",
    "for x in Essentials:\n",
    "    if isinstance(x, bool):\n",
    "        bool_dtype.append(x)\n",
    "    elif isinstance(x, str):\n",
    "        str_dtype.append(x)\n",
    "    elif isinstance(x, float):\n",
    "        flt_dtype.append(x)\n",
    "    else:\n",
    "        int_dtype.append(x)    \n",
    "        \n",
    "print(bool_dtype)\n",
    "print(str_dtype)\n",
    "print(flt_dtype)\n",
    "print(int_dtype)"
   ]
  },
  {
   "cell_type": "markdown",
   "id": "200932c2",
   "metadata": {},
   "source": [
    "# Question 6"
   ]
  },
  {
   "cell_type": "code",
   "execution_count": 66,
   "id": "af1cb5cf",
   "metadata": {},
   "outputs": [
    {
     "name": "stdout",
     "output_type": "stream",
     "text": [
      "8\n"
     ]
    }
   ],
   "source": [
    "print(Essentials.index(\"Shelter\"))             # print index for shelter"
   ]
  },
  {
   "cell_type": "code",
   "execution_count": 60,
   "id": "f81603a9",
   "metadata": {},
   "outputs": [
    {
     "name": "stdout",
     "output_type": "stream",
     "text": [
      "13\n"
     ]
    }
   ],
   "source": [
    "print(Essentials.index(20))"
   ]
  },
  {
   "cell_type": "code",
   "execution_count": 61,
   "id": "80e8db26",
   "metadata": {},
   "outputs": [
    {
     "name": "stdout",
     "output_type": "stream",
     "text": [
      "7\n"
     ]
    }
   ],
   "source": [
    "print(Essentials.index(1))"
   ]
  },
  {
   "cell_type": "code",
   "execution_count": 62,
   "id": "d538b10e",
   "metadata": {},
   "outputs": [
    {
     "data": {
      "text/plain": [
       "7.5"
      ]
     },
     "execution_count": 62,
     "metadata": {},
     "output_type": "execute_result"
    }
   ],
   "source": [
    "Essentials[14]"
   ]
  }
 ],
 "metadata": {
  "kernelspec": {
   "display_name": "Python 3 (ipykernel)",
   "language": "python",
   "name": "python3"
  },
  "language_info": {
   "codemirror_mode": {
    "name": "ipython",
    "version": 3
   },
   "file_extension": ".py",
   "mimetype": "text/x-python",
   "name": "python",
   "nbconvert_exporter": "python",
   "pygments_lexer": "ipython3",
   "version": "3.9.7"
  }
 },
 "nbformat": 4,
 "nbformat_minor": 5
}
